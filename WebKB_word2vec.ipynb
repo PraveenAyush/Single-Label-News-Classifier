{
 "cells": [
  {
   "cell_type": "code",
   "execution_count": 1,
   "id": "e884e572",
   "metadata": {},
   "outputs": [],
   "source": [
    "import pandas as pd\n",
    "import nltk\n",
    "import re\n",
    "import numpy as np\n",
    "import matplotlib.pyplot as plt"
   ]
  },
  {
   "cell_type": "code",
   "execution_count": 35,
   "id": "be7824bf",
   "metadata": {},
   "outputs": [
    {
     "data": {
      "text/html": [
       "<div>\n",
       "<style scoped>\n",
       "    .dataframe tbody tr th:only-of-type {\n",
       "        vertical-align: middle;\n",
       "    }\n",
       "\n",
       "    .dataframe tbody tr th {\n",
       "        vertical-align: top;\n",
       "    }\n",
       "\n",
       "    .dataframe thead th {\n",
       "        text-align: right;\n",
       "    }\n",
       "</style>\n",
       "<table border=\"1\" class=\"dataframe\">\n",
       "  <thead>\n",
       "    <tr style=\"text-align: right;\">\n",
       "      <th></th>\n",
       "      <th>category</th>\n",
       "      <th>text</th>\n",
       "    </tr>\n",
       "  </thead>\n",
       "  <tbody>\n",
       "    <tr>\n",
       "      <th>0</th>\n",
       "      <td>student</td>\n",
       "      <td>brian comput scienc depart univers wisconsin d...</td>\n",
       "    </tr>\n",
       "    <tr>\n",
       "      <th>1</th>\n",
       "      <td>student</td>\n",
       "      <td>denni swanson web page mail pop uki offic hour...</td>\n",
       "    </tr>\n",
       "    <tr>\n",
       "      <th>2</th>\n",
       "      <td>faculty</td>\n",
       "      <td>russel impagliazzo depart comput scienc engin ...</td>\n",
       "    </tr>\n",
       "    <tr>\n",
       "      <th>3</th>\n",
       "      <td>student</td>\n",
       "      <td>dave phd student depart comput scienc univers ...</td>\n",
       "    </tr>\n",
       "    <tr>\n",
       "      <th>4</th>\n",
       "      <td>project</td>\n",
       "      <td>center lifelong learn design univers colorado ...</td>\n",
       "    </tr>\n",
       "  </tbody>\n",
       "</table>\n",
       "</div>"
      ],
      "text/plain": [
       "  category                                               text\n",
       "0  student  brian comput scienc depart univers wisconsin d...\n",
       "1  student  denni swanson web page mail pop uki offic hour...\n",
       "2  faculty  russel impagliazzo depart comput scienc engin ...\n",
       "3  student  dave phd student depart comput scienc univers ...\n",
       "4  project  center lifelong learn design univers colorado ..."
      ]
     },
     "execution_count": 35,
     "metadata": {},
     "output_type": "execute_result"
    }
   ],
   "source": [
    "df_train = pd.read_csv('./datasets/webkb-train-stemmed.txt', header=None, sep='\\t', names=['category', 'text'])\n",
    "df_train = df_train.dropna()\n",
    "df_train.head()"
   ]
  },
  {
   "cell_type": "code",
   "execution_count": 3,
   "id": "cf769d7a",
   "metadata": {},
   "outputs": [
    {
     "data": {
      "text/plain": [
       "(                                                   text\n",
       " 0     brian comput scienc depart univers wisconsin d...\n",
       " 1     denni swanson web page mail pop uki offic hour...\n",
       " 2     russel impagliazzo depart comput scienc engin ...\n",
       " 3     dave phd student depart comput scienc univers ...\n",
       " 4     center lifelong learn design univers colorado ...\n",
       " ...                                                 ...\n",
       " 2798  faster harder kill laboratori experiment softw...\n",
       " 2799  previou content steven faculti research guid p...\n",
       " 2800  sandeep graduat student studi comput scienc cl...\n",
       " 2801  web oper system uniqu mwf tai recent explos in...\n",
       " 2802  rami melhem professor dept comput scienc phone...\n",
       " \n",
       " [2785 rows x 1 columns],\n",
       " 0       student\n",
       " 1       student\n",
       " 2       faculty\n",
       " 3       student\n",
       " 4       project\n",
       "          ...   \n",
       " 2798    project\n",
       " 2799    faculty\n",
       " 2800    student\n",
       " 2801     course\n",
       " 2802    faculty\n",
       " Name: category, Length: 2785, dtype: object)"
      ]
     },
     "execution_count": 3,
     "metadata": {},
     "output_type": "execute_result"
    }
   ],
   "source": [
    "text_train = df_train.drop(['category'],axis=1)\n",
    "y_train = df_train['category']\n",
    "\n",
    "text_train, y_train"
   ]
  },
  {
   "cell_type": "code",
   "execution_count": 4,
   "id": "2415c73b",
   "metadata": {},
   "outputs": [
    {
     "data": {
      "text/plain": [
       "student    1085\n",
       "faculty     745\n",
       "course      620\n",
       "project     335\n",
       "Name: category, dtype: int64"
      ]
     },
     "execution_count": 4,
     "metadata": {},
     "output_type": "execute_result"
    }
   ],
   "source": [
    "y_train.value_counts()"
   ]
  },
  {
   "cell_type": "code",
   "execution_count": 5,
   "id": "daede607",
   "metadata": {},
   "outputs": [
    {
     "data": {
      "text/plain": [
       "student    540\n",
       "faculty    371\n",
       "course     306\n",
       "project    166\n",
       "Name: category, dtype: int64"
      ]
     },
     "execution_count": 5,
     "metadata": {},
     "output_type": "execute_result"
    }
   ],
   "source": [
    "df_test = pd.read_csv('datasets/webkb-test-stemmed.txt', header = None, sep='\\t', names = ['category', 'text'])\n",
    "df_test = df_test.dropna()\n",
    "text_test = df_test.drop(['category'],axis=1)\n",
    "y_test = df_test['category']\n",
    "\n",
    "y_test.value_counts()"
   ]
  },
  {
   "cell_type": "code",
   "execution_count": 6,
   "id": "709e6ad5",
   "metadata": {},
   "outputs": [],
   "source": [
    "# Since dataset is already stemmed, only stop-word removal will be applied\n",
    "def text_preprocess(articles: pd.DataFrame) -> list:\n",
    "    corpus=[]\n",
    "    for i in range(0,len(articles)):\n",
    "        review = re.sub('[^a-zA-Z]', ' ', articles['text'][i]) #replacing all charecters apart from A-Z,a-z with ' '\n",
    "        review = review.lower()\n",
    "        review = nltk.word_tokenize(review)\n",
    "\n",
    "        review = [word for word in review if not word in nltk.corpus.stopwords.words('english')]\n",
    "        review = ' '.join(review)\n",
    "        corpus.append(review)\n",
    "    return corpus"
   ]
  },
  {
   "cell_type": "code",
   "execution_count": 7,
   "id": "0c6c32c9",
   "metadata": {},
   "outputs": [
    {
     "data": {
      "text/html": [
       "<div>\n",
       "<style scoped>\n",
       "    .dataframe tbody tr th:only-of-type {\n",
       "        vertical-align: middle;\n",
       "    }\n",
       "\n",
       "    .dataframe tbody tr th {\n",
       "        vertical-align: top;\n",
       "    }\n",
       "\n",
       "    .dataframe thead th {\n",
       "        text-align: right;\n",
       "    }\n",
       "</style>\n",
       "<table border=\"1\" class=\"dataframe\">\n",
       "  <thead>\n",
       "    <tr style=\"text-align: right;\">\n",
       "      <th></th>\n",
       "      <th>index</th>\n",
       "      <th>text</th>\n",
       "    </tr>\n",
       "  </thead>\n",
       "  <tbody>\n",
       "    <tr>\n",
       "      <th>0</th>\n",
       "      <td>0</td>\n",
       "      <td>brian comput scienc depart univers wisconsin d...</td>\n",
       "    </tr>\n",
       "    <tr>\n",
       "      <th>1</th>\n",
       "      <td>1</td>\n",
       "      <td>denni swanson web page mail pop uki offic hour...</td>\n",
       "    </tr>\n",
       "    <tr>\n",
       "      <th>2</th>\n",
       "      <td>2</td>\n",
       "      <td>russel impagliazzo depart comput scienc engin ...</td>\n",
       "    </tr>\n",
       "    <tr>\n",
       "      <th>3</th>\n",
       "      <td>3</td>\n",
       "      <td>dave phd student depart comput scienc univers ...</td>\n",
       "    </tr>\n",
       "    <tr>\n",
       "      <th>4</th>\n",
       "      <td>4</td>\n",
       "      <td>center lifelong learn design univers colorado ...</td>\n",
       "    </tr>\n",
       "    <tr>\n",
       "      <th>...</th>\n",
       "      <td>...</td>\n",
       "      <td>...</td>\n",
       "    </tr>\n",
       "    <tr>\n",
       "      <th>2780</th>\n",
       "      <td>2798</td>\n",
       "      <td>faster harder kill laboratori experiment softw...</td>\n",
       "    </tr>\n",
       "    <tr>\n",
       "      <th>2781</th>\n",
       "      <td>2799</td>\n",
       "      <td>previou content steven faculti research guid p...</td>\n",
       "    </tr>\n",
       "    <tr>\n",
       "      <th>2782</th>\n",
       "      <td>2800</td>\n",
       "      <td>sandeep graduat student studi comput scienc cl...</td>\n",
       "    </tr>\n",
       "    <tr>\n",
       "      <th>2783</th>\n",
       "      <td>2801</td>\n",
       "      <td>web oper system uniqu mwf tai recent explos in...</td>\n",
       "    </tr>\n",
       "    <tr>\n",
       "      <th>2784</th>\n",
       "      <td>2802</td>\n",
       "      <td>rami melhem professor dept comput scienc phone...</td>\n",
       "    </tr>\n",
       "  </tbody>\n",
       "</table>\n",
       "<p>2785 rows × 2 columns</p>\n",
       "</div>"
      ],
      "text/plain": [
       "      index                                               text\n",
       "0         0  brian comput scienc depart univers wisconsin d...\n",
       "1         1  denni swanson web page mail pop uki offic hour...\n",
       "2         2  russel impagliazzo depart comput scienc engin ...\n",
       "3         3  dave phd student depart comput scienc univers ...\n",
       "4         4  center lifelong learn design univers colorado ...\n",
       "...     ...                                                ...\n",
       "2780   2798  faster harder kill laboratori experiment softw...\n",
       "2781   2799  previou content steven faculti research guid p...\n",
       "2782   2800  sandeep graduat student studi comput scienc cl...\n",
       "2783   2801  web oper system uniqu mwf tai recent explos in...\n",
       "2784   2802  rami melhem professor dept comput scienc phone...\n",
       "\n",
       "[2785 rows x 2 columns]"
      ]
     },
     "execution_count": 7,
     "metadata": {},
     "output_type": "execute_result"
    }
   ],
   "source": [
    "articles_train = text_train.copy()\n",
    "articles_train.reset_index(inplace=True)\n",
    "articles_train"
   ]
  },
  {
   "cell_type": "code",
   "execution_count": 8,
   "id": "fc45ca84",
   "metadata": {},
   "outputs": [
    {
     "data": {
      "text/html": [
       "<div>\n",
       "<style scoped>\n",
       "    .dataframe tbody tr th:only-of-type {\n",
       "        vertical-align: middle;\n",
       "    }\n",
       "\n",
       "    .dataframe tbody tr th {\n",
       "        vertical-align: top;\n",
       "    }\n",
       "\n",
       "    .dataframe thead th {\n",
       "        text-align: right;\n",
       "    }\n",
       "</style>\n",
       "<table border=\"1\" class=\"dataframe\">\n",
       "  <thead>\n",
       "    <tr style=\"text-align: right;\">\n",
       "      <th></th>\n",
       "      <th>index</th>\n",
       "      <th>text</th>\n",
       "    </tr>\n",
       "  </thead>\n",
       "  <tbody>\n",
       "    <tr>\n",
       "      <th>0</th>\n",
       "      <td>0</td>\n",
       "      <td>eric homepag eric wei tsinghua physic fudan genet</td>\n",
       "    </tr>\n",
       "    <tr>\n",
       "      <th>1</th>\n",
       "      <td>1</td>\n",
       "      <td>comput system perform evalu model new sept ass...</td>\n",
       "    </tr>\n",
       "    <tr>\n",
       "      <th>2</th>\n",
       "      <td>2</td>\n",
       "      <td>home page comput scienc grad student ucsd work...</td>\n",
       "    </tr>\n",
       "    <tr>\n",
       "      <th>3</th>\n",
       "      <td>3</td>\n",
       "      <td>toni web page toni face thing call toni studen...</td>\n",
       "    </tr>\n",
       "    <tr>\n",
       "      <th>4</th>\n",
       "      <td>4</td>\n",
       "      <td>ec advanc comput architectur credit parallel a...</td>\n",
       "    </tr>\n",
       "    <tr>\n",
       "      <th>...</th>\n",
       "      <td>...</td>\n",
       "      <td>...</td>\n",
       "    </tr>\n",
       "    <tr>\n",
       "      <th>1378</th>\n",
       "      <td>1391</td>\n",
       "      <td>scott pictur background scott phd student coll...</td>\n",
       "    </tr>\n",
       "    <tr>\n",
       "      <th>1379</th>\n",
       "      <td>1392</td>\n",
       "      <td>advanc oper system fall marvin offic comput sc...</td>\n",
       "    </tr>\n",
       "    <tr>\n",
       "      <th>1380</th>\n",
       "      <td>1393</td>\n",
       "      <td>human robot hand group head kenneth salisburi ...</td>\n",
       "    </tr>\n",
       "    <tr>\n",
       "      <th>1381</th>\n",
       "      <td>1394</td>\n",
       "      <td>databas manag system design implement inform p...</td>\n",
       "    </tr>\n",
       "    <tr>\n",
       "      <th>1382</th>\n",
       "      <td>1395</td>\n",
       "      <td>lick home page gener info mail address lick gr...</td>\n",
       "    </tr>\n",
       "  </tbody>\n",
       "</table>\n",
       "<p>1383 rows × 2 columns</p>\n",
       "</div>"
      ],
      "text/plain": [
       "      index                                               text\n",
       "0         0  eric homepag eric wei tsinghua physic fudan genet\n",
       "1         1  comput system perform evalu model new sept ass...\n",
       "2         2  home page comput scienc grad student ucsd work...\n",
       "3         3  toni web page toni face thing call toni studen...\n",
       "4         4  ec advanc comput architectur credit parallel a...\n",
       "...     ...                                                ...\n",
       "1378   1391  scott pictur background scott phd student coll...\n",
       "1379   1392  advanc oper system fall marvin offic comput sc...\n",
       "1380   1393  human robot hand group head kenneth salisburi ...\n",
       "1381   1394  databas manag system design implement inform p...\n",
       "1382   1395  lick home page gener info mail address lick gr...\n",
       "\n",
       "[1383 rows x 2 columns]"
      ]
     },
     "execution_count": 8,
     "metadata": {},
     "output_type": "execute_result"
    }
   ],
   "source": [
    "articles_test = text_test.copy()\n",
    "articles_test.reset_index(inplace=True)\n",
    "articles_test"
   ]
  },
  {
   "cell_type": "code",
   "execution_count": 9,
   "id": "37314016",
   "metadata": {},
   "outputs": [
    {
     "data": {
      "text/plain": [
       "'brian comput scienc depart univers wisconsin dayton street madison offic email wisc offic phone home phone advisor david wood tabl content interest schedul summer public interest profession comput architectur oper system compil high speed network distribut parallel system secur account high perform person bicycl walk hike camp travel home brew cook comput electron read schedul mondai wwt meet wednesdai meet david cow meet milwauke brian heidi wed madison comput architectur affili meet chicago base public journal articl foster perform massiv parallel comput spectral atmospher model atmospher ocean technolog byte drake foster design perform scalabl parallel commun climat model parallel comput decemb byte proceed paper foster algorithm comparison benchmark parallel spectral transform water model sixth workshop parallel process meteorolog ed world scientif singapor byte drake foster hack williamson adapt scalabl parallel comput proceed global chang symposium american meteorolog societi byte foster load balanc algorithm climat model proceed scalabl high perform comput confer ed walker ieee comput societi press byte technic report user guid technic report juli byte foster load balanc algorithm parallel commun climat model anl technic report anl mc januari byte poster present foster sutton wagner harrison kendal calcul librari gordon research confer high perform comput nation inform infrastructur juli foster sutton wagner calcul librari high perform comput chemistri workshop hilton california august earth belong man man belong earth thing connect blood unit man web life strand web chief seattl man sat ground medit life mean accept creatur acknowledg uniti univers thing true essenc civil stand bear modifi mon aug cdt'"
      ]
     },
     "execution_count": 9,
     "metadata": {},
     "output_type": "execute_result"
    }
   ],
   "source": [
    "X_train = text_preprocess(articles_train)\n",
    "X_train[0]"
   ]
  },
  {
   "cell_type": "code",
   "execution_count": 10,
   "id": "c0fb4566",
   "metadata": {},
   "outputs": [
    {
     "data": {
      "text/plain": [
       "'eric homepag eric wei tsinghua physic fudan genet'"
      ]
     },
     "execution_count": 10,
     "metadata": {},
     "output_type": "execute_result"
    }
   ],
   "source": [
    "X_test = text_preprocess(articles_test)\n",
    "X_test[0]"
   ]
  },
  {
   "cell_type": "markdown",
   "id": "63f45edf",
   "metadata": {},
   "source": [
    "# Word2Vec"
   ]
  },
  {
   "cell_type": "code",
   "execution_count": 11,
   "id": "fd3bf1a9",
   "metadata": {},
   "outputs": [],
   "source": [
    "import gensim\n",
    "from gensim.models import Word2Vec"
   ]
  },
  {
   "cell_type": "code",
   "execution_count": 23,
   "id": "1f373443",
   "metadata": {},
   "outputs": [],
   "source": [
    "model = gensim.models.Word2Vec(X_train, vector_size=300, window=5, min_count=1, sg=1, epochs=30)"
   ]
  },
  {
   "cell_type": "code",
   "execution_count": 26,
   "id": "3dd07e51",
   "metadata": {},
   "outputs": [],
   "source": [
    "words = set(model.wv.index_to_key)\n",
    "X_train_vect = np.array([np.array([model.wv[i] for i in ls if i in words]) for ls in X_train], dtype=object)\n",
    "X_test_vect = np.array([np.array([model.wv[i] for i in ls if i in words]) for ls in X_test], dtype=object)\n"
   ]
  },
  {
   "cell_type": "code",
   "execution_count": 29,
   "id": "4eaded36",
   "metadata": {},
   "outputs": [],
   "source": [
    "X_train_vect_avg = []\n",
    "for v in X_train_vect:\n",
    "    if v.size:\n",
    "        X_train_vect_avg.append(v.mean(axis=0))\n",
    "    else:\n",
    "        X_train_vect_avg.append(np.zeros(100, dtype=float))\n",
    "\n",
    "X_test_vect_avg = []\n",
    "for v in X_test_vect:\n",
    "    if v.size:\n",
    "        X_test_vect_avg.append(v.mean(axis=0))\n",
    "    else:\n",
    "        X_test_vect_avg.append(np.zeros(100, dtype=float))\n"
   ]
  },
  {
   "cell_type": "code",
   "execution_count": 33,
   "id": "92e0d2a9",
   "metadata": {},
   "outputs": [],
   "source": [
    "from sklearn.svm import LinearSVC\n",
    "\n",
    "\n",
    "svm = LinearSVC()\n",
    "svm_model = svm.fit(X_train_vect_avg, y_train)\n"
   ]
  },
  {
   "cell_type": "code",
   "execution_count": 34,
   "id": "136c5390",
   "metadata": {},
   "outputs": [],
   "source": [
    "y_pred = svm_model.predict(X_test_vect_avg)"
   ]
  },
  {
   "cell_type": "code",
   "execution_count": 36,
   "id": "ffb13b46",
   "metadata": {},
   "outputs": [
    {
     "name": "stdout",
     "output_type": "stream",
     "text": [
      "              precision    recall  f1-score   support\n",
      "\n",
      "      course       0.75      0.02      0.04       306\n",
      "     faculty       0.48      0.22      0.30       371\n",
      "     project       0.00      0.00      0.00       166\n",
      "     student       0.42      0.94      0.58       540\n",
      "\n",
      "    accuracy                           0.43      1383\n",
      "   macro avg       0.41      0.30      0.23      1383\n",
      "weighted avg       0.46      0.43      0.32      1383\n",
      "\n",
      "\n",
      "Accuracy:  0.4309472161966739\n",
      "MCC:  0.14089785520608775\n",
      "f1-micro:  0.4309472161966739\n"
     ]
    },
    {
     "name": "stderr",
     "output_type": "stream",
     "text": [
      "c:\\Users\\ayush\\anaconda3\\lib\\site-packages\\sklearn\\metrics\\_classification.py:1248: UndefinedMetricWarning: Precision and F-score are ill-defined and being set to 0.0 in labels with no predicted samples. Use `zero_division` parameter to control this behavior.\n",
      "  _warn_prf(average, modifier, msg_start, len(result))\n",
      "c:\\Users\\ayush\\anaconda3\\lib\\site-packages\\sklearn\\metrics\\_classification.py:1248: UndefinedMetricWarning: Precision and F-score are ill-defined and being set to 0.0 in labels with no predicted samples. Use `zero_division` parameter to control this behavior.\n",
      "  _warn_prf(average, modifier, msg_start, len(result))\n",
      "c:\\Users\\ayush\\anaconda3\\lib\\site-packages\\sklearn\\metrics\\_classification.py:1248: UndefinedMetricWarning: Precision and F-score are ill-defined and being set to 0.0 in labels with no predicted samples. Use `zero_division` parameter to control this behavior.\n",
      "  _warn_prf(average, modifier, msg_start, len(result))\n"
     ]
    }
   ],
   "source": [
    "from sklearn.metrics import accuracy_score, classification_report, f1_score, matthews_corrcoef\n",
    "\n",
    "\n",
    "print(classification_report(y_test, y_pred))\n",
    "print('\\nAccuracy: ', accuracy_score(y_test, y_pred))\n",
    "print('MCC: ', matthews_corrcoef(y_test, y_pred))\n",
    "print('f1-micro: ', f1_score(y_test, y_pred, average='micro'))"
   ]
  }
 ],
 "metadata": {
  "kernelspec": {
   "display_name": "Python 3.9.7 ('base')",
   "language": "python",
   "name": "python3"
  },
  "language_info": {
   "codemirror_mode": {
    "name": "ipython",
    "version": 3
   },
   "file_extension": ".py",
   "mimetype": "text/x-python",
   "name": "python",
   "nbconvert_exporter": "python",
   "pygments_lexer": "ipython3",
   "version": "3.9.7"
  },
  "vscode": {
   "interpreter": {
    "hash": "0467c16d4e73dba61dcc106221b4b7c95372fa61fc6cc648ee99bca30bbaf279"
   }
  }
 },
 "nbformat": 4,
 "nbformat_minor": 5
}
